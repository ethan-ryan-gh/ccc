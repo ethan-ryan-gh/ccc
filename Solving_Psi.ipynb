{
 "cells": [
  {
   "cell_type": "code",
   "execution_count": 22,
   "id": "95e20881-e242-4420-a8f0-cc577834f708",
   "metadata": {},
   "outputs": [
    {
     "name": "stdout",
     "output_type": "stream",
     "text": [
      "                                                                               ↪\n",
      "                                                                      ___      ↪\n",
      "  ⎛       3⋅ⅈ⋅t⋅w    ⎛π⋅x⎞      ⎞ ⎛     3⋅ⅈ⋅t⋅w            ⎛π⋅x⎞⎞    ╱ 1   -3⋅ ↪\n",
      "2⋅⎜8.0⋅ⅈ⋅ℯ       ⋅cos⎜───⎟ + 3.0⎟⋅⎜3.0⋅ℯ        - 8.0⋅ⅈ⋅cos⎜───⎟⎟⋅  ╱  ─ ⋅ℯ    ↪\n",
      "  ⎝                  ⎝ l ⎠      ⎠ ⎝                        ⎝ l ⎠⎠ ╲╱   l       ↪\n",
      "────────────────────────────────────────────────────────────────────────────── ↪\n",
      "                                                 25                            ↪\n",
      "\n",
      "↪                 _______\n",
      "↪                     ___\n",
      "↪ ⅈ⋅t⋅w    2⎛π⋅x⎞    ╱ 1 \n",
      "↪      ⋅sin ⎜───⎟⋅  ╱  ─ \n",
      "↪           ⎝ l ⎠ ╲╱   l \n",
      "↪ ───────────────────────\n",
      "↪                        \n"
     ]
    }
   ],
   "source": [
    "import sympy as sym\n",
    "sym.init_printing()\n",
    "from sympy import symbols, I, sqrt, simplify, pi\n",
    "\n",
    "# Define symbols\n",
    "x, w, l, t = symbols(\"x w l t\", real=True) \n",
    "\n",
    "# Define the wavefunction\n",
    "wf = sym.sqrt(2/l)*((3/5)*sym.exp(-I*w*t)*sym.sin(pi*x/l) - (4*I/5)*sym.exp(-I*4*w*t)*sym.sin(2*pi*x/l))\n",
    "\n",
    "# Compute the probability density (wf * conjugate(wf))\n",
    "psi = wf * sym.conjugate(wf)\n",
    "\n",
    "# Simplify the result\n",
    "simplified_psi = sym.simplify(psi)\n",
    "\n",
    "# Print the simplified result\n",
    "pprint(simplified_psi)"
   ]
  },
  {
   "cell_type": "code",
   "execution_count": 23,
   "id": "9251f298-6b9c-4f95-9d5b-d05bb38daab2",
   "metadata": {},
   "outputs": [
    {
     "name": "stdout",
     "output_type": "stream",
     "text": [
      "                                                                               ↪\n",
      "                                                                               ↪\n",
      "⎛⎛        3⋅ⅈ⋅t⋅w    ⎛π⋅x⎞           ⎛2⋅π⋅x⎞       ⎞  3⋅ⅈ⋅t⋅w             ⎛π⋅x ↪\n",
      "⎜⎜1.92⋅ⅈ⋅ℯ       ⋅cos⎜───⎟ + 2.56⋅cos⎜─────⎟ + 3.28⎟⋅ℯ        - 1.92⋅ⅈ⋅cos⎜─── ↪\n",
      "⎝⎝                   ⎝ l ⎠           ⎝  l  ⎠       ⎠                      ⎝ l  ↪\n",
      "\n",
      "↪                                _______\n",
      "↪        ___                         ___\n",
      "↪ ⎞⎞    ╱ 1   -3⋅ⅈ⋅t⋅w    2⎛π⋅x⎞    ╱ 1 \n",
      "↪ ⎟⎟⋅  ╱  ─ ⋅ℯ        ⋅sin ⎜───⎟⋅  ╱  ─ \n",
      "↪ ⎠⎠ ╲╱   l                ⎝ l ⎠ ╲╱   l \n"
     ]
    }
   ],
   "source": [
    "import sympy as sym\n",
    "sym.init_printing()\n",
    "from sympy import symbols, I, sqrt, pi, simplify, trigsimp, expand\n",
    "\n",
    "# Define symbols\n",
    "x, w, l, t = symbols(\"x w l t\", real=True)\n",
    "\n",
    "# Define the wavefunction\n",
    "wf = sym.sqrt(2/l)*((3/5)*sym.exp(-I*w*t)*sym.sin(pi*x/l) - (4*I/5)*sym.exp(-I*4*w*t)*sym.sin(2*pi*x/l))\n",
    "\n",
    "# Compute the probability density (wf * conjugate(wf))\n",
    "psi = wf * sym.conjugate(wf)\n",
    "\n",
    "# Expand and apply trigonometric simplifications\n",
    "expanded_psi = expand(psi)\n",
    "simplified_psi = simplify(trigsimp(expanded_psi))\n",
    "\n",
    "# Print the simplified result\n",
    "sym.pprint(simplified_psi)"
   ]
  },
  {
   "cell_type": "markdown",
   "id": "fc1a20da-c06f-4ddf-b745-6005c864b80f",
   "metadata": {},
   "source": [
    "# Note\n",
    "I also tried expanding this on the board, but it still sucked, so I tried coding it. No help. I don't know what to do."
   ]
  },
  {
   "cell_type": "code",
   "execution_count": null,
   "id": "f41a4573-33e8-46be-bafa-5b77d8120a4d",
   "metadata": {},
   "outputs": [],
   "source": []
  }
 ],
 "metadata": {
  "kernelspec": {
   "display_name": "Python 3 (ipykernel)",
   "language": "python",
   "name": "python3"
  },
  "language_info": {
   "codemirror_mode": {
    "name": "ipython",
    "version": 3
   },
   "file_extension": ".py",
   "mimetype": "text/x-python",
   "name": "python",
   "nbconvert_exporter": "python",
   "pygments_lexer": "ipython3",
   "version": "3.11.9"
  }
 },
 "nbformat": 4,
 "nbformat_minor": 5
}
